{
 "cells": [
  {
   "cell_type": "code",
   "execution_count": 1,
   "id": "30f321af-c310-4fa0-8147-feaa46104f97",
   "metadata": {},
   "outputs": [],
   "source": [
    "import pandas as pd\n",
    "import numpy as np\n",
    "import matplotlib.pyplot as plt\n",
    "import seaborn as sns\n",
    "from sklearn.model_selection import train_test_split\n",
    "from sklearn.preprocessing import StandardScaler\n",
    "from sklearn.pipeline import Pipeline\n",
    "from sklearn.linear_model import LinearRegression, Lasso\n",
    "from sklearn.ensemble import RandomForestRegressor\n",
    "from sklearn.metrics import mean_squared_error, r2_score\n",
    "import warnings\n",
    "warnings.filterwarnings(\"ignore\")\n"
   ]
  },
  {
   "cell_type": "code",
   "execution_count": 2,
   "id": "385cbfdd-9f38-4b1c-939f-f69fdfdb1263",
   "metadata": {},
   "outputs": [],
   "source": [
    "\n",
    "data = pd.read_csv('EV_new (1).csv')"
   ]
  },
  {
   "cell_type": "code",
   "execution_count": 3,
   "id": "b06767d7-c8ea-402b-b381-74c8a8e2c85a",
   "metadata": {},
   "outputs": [],
   "source": [
    "data3=data.fillna(0.0)"
   ]
  },
  {
   "cell_type": "code",
   "execution_count": 4,
   "id": "ed722dbd-2e1b-4a1b-a385-b18030c8ae5a",
   "metadata": {},
   "outputs": [
    {
     "name": "stdout",
     "output_type": "stream",
     "text": [
      "   Identifier           City  Postal Code  Model Year       Make        Model  \\\n",
      "0  KL8CL6S05E         Tacoma      98407.0        2014  CHEVROLET        SPARK   \n",
      "1  JTDKARFP0H  Port Townsend      98368.0        2017     TOYOTA  PRIUS PRIME   \n",
      "2  JHMZC5F34J         Vashon      98070.0        2018      HONDA      CLARITY   \n",
      "3  KMHC65LD0K     Ridgefield      98642.0        2019    HYUNDAI        IONIQ   \n",
      "4  1N4AZ1CP6J      Bremerton      98337.0        2018     NISSAN         LEAF   \n",
      "\n",
      "                    Electric Vehicle Type  \\\n",
      "0          Battery Electric Vehicle (BEV)   \n",
      "1  Plug-in Hybrid Electric Vehicle (PHEV)   \n",
      "2  Plug-in Hybrid Electric Vehicle (PHEV)   \n",
      "3  Plug-in Hybrid Electric Vehicle (PHEV)   \n",
      "4          Battery Electric Vehicle (BEV)   \n",
      "\n",
      "  Clean Alternative Fuel Vehicle (CAFV) Eligibility  Electric Range  \\\n",
      "0           Clean Alternative Fuel Vehicle Eligible            82.0   \n",
      "1             Not eligible due to low battery range            25.0   \n",
      "2           Clean Alternative Fuel Vehicle Eligible            47.0   \n",
      "3             Not eligible due to low battery range            29.0   \n",
      "4           Clean Alternative Fuel Vehicle Eligible           151.0   \n",
      "\n",
      "      Base MSRP  Legislative District  Vehicle ID  \\\n",
      "0  65762.426230                  27.0   259013639   \n",
      "1  61743.213601                  24.0   220589904   \n",
      "2  59748.571844                  34.0   109177015   \n",
      "3  63259.981573                  18.0   196216282   \n",
      "4  60399.233656                  26.0   187956821   \n",
      "\n",
      "                                 Vehicle Location  \\\n",
      "0          POINT (-122.5113356 47.29238280000004)   \n",
      "1   POINT (-122.76441969999996 48.11958740000006)   \n",
      "2  POINT (-122.45867519999996 47.448468700000035)   \n",
      "3   POINT (-122.74348499999996 45.81886000000003)   \n",
      "4  POINT (-122.63590499999998 47.570970000000045)   \n",
      "\n",
      "                                    Electric Utility  2020 Census Tract  \n",
      "0  BONNEVILLE POWER ADMINISTRATION||CITY OF TACOM...       5.305306e+10  \n",
      "1  BONNEVILLE POWER ADMINISTRATION||PUGET SOUND E...       5.303195e+10  \n",
      "2      PUGET SOUND ENERGY INC||CITY OF TACOMA - (WA)       5.303303e+10  \n",
      "3  BONNEVILLE POWER ADMINISTRATION||PUD NO 1 OF C...       5.301104e+10  \n",
      "4                             PUGET SOUND ENERGY INC       5.303508e+10  \n"
     ]
    }
   ],
   "source": [
    "\n",
    "print(data3.head())"
   ]
  },
  {
   "cell_type": "code",
   "execution_count": 5,
   "id": "ce857001-dc15-419f-956e-9e31fb5f20b7",
   "metadata": {},
   "outputs": [
    {
     "name": "stdout",
     "output_type": "stream",
     "text": [
      "         Postal Code     Model Year  Electric Range      Base MSRP  \\\n",
      "count  135030.000000  135038.000000   135037.000000  135037.000000   \n",
      "mean    98171.001577    2019.662880       74.591964   81017.615211   \n",
      "std      2450.367211       3.001676       98.744120   23727.350901   \n",
      "min      1730.000000    1997.000000        0.000000   26455.735798   \n",
      "25%     98052.000000    2018.000000        0.000000   63713.207686   \n",
      "50%     98121.000000    2021.000000       21.000000   76983.777737   \n",
      "75%     98370.000000    2022.000000      150.000000  114632.706686   \n",
      "max     99701.000000    2024.000000      337.000000  845000.000000   \n",
      "\n",
      "       Legislative District    Vehicle ID  2020 Census Tract  \n",
      "count         134726.000000  1.350380e+05       1.350300e+05  \n",
      "mean              29.504379  2.063432e+08       5.297233e+10  \n",
      "std               14.783780  8.582417e+07       1.635783e+09  \n",
      "min                1.000000  4.385000e+03       1.081042e+09  \n",
      "25%               18.000000  1.606305e+08       5.303301e+10  \n",
      "50%               34.000000  2.059563e+08       5.303303e+10  \n",
      "75%               43.000000  2.308888e+08       5.305307e+10  \n",
      "max               49.000000  4.792548e+08       5.603300e+10  \n"
     ]
    }
   ],
   "source": [
    "print(data.describe())"
   ]
  },
  {
   "cell_type": "code",
   "execution_count": 6,
   "id": "9f57e176-9c04-43cd-ab23-a13592173edc",
   "metadata": {},
   "outputs": [
    {
     "name": "stdout",
     "output_type": "stream",
     "text": [
      "Identifier                                           0\n",
      "City                                                 0\n",
      "Postal Code                                          0\n",
      "Model Year                                           0\n",
      "Make                                                 0\n",
      "Model                                                0\n",
      "Electric Vehicle Type                                0\n",
      "Clean Alternative Fuel Vehicle (CAFV) Eligibility    0\n",
      "Electric Range                                       0\n",
      "Base MSRP                                            0\n",
      "Legislative District                                 0\n",
      "Vehicle ID                                           0\n",
      "Vehicle Location                                     0\n",
      "Electric Utility                                     0\n",
      "2020 Census Tract                                    0\n",
      "dtype: int64\n"
     ]
    }
   ],
   "source": [
    "print(data3.isnull().sum())"
   ]
  },
  {
   "cell_type": "code",
   "execution_count": 7,
   "id": "1f440327-4eef-4427-85b0-076067ba653a",
   "metadata": {},
   "outputs": [
    {
     "name": "stdout",
     "output_type": "stream",
     "text": [
      "         Postal Code     Model Year  Electric Range      Base MSRP  \\\n",
      "count  135038.000000  135038.000000   135038.000000  135038.000000   \n",
      "mean    98165.185674    2019.662880       74.591411   81017.015249   \n",
      "std      2564.150397       3.001676       98.743963   23728.287320   \n",
      "min         0.000000    1997.000000        0.000000       0.000000   \n",
      "25%     98052.000000    2018.000000        0.000000   63713.207686   \n",
      "50%     98121.000000    2021.000000       21.000000   76983.777737   \n",
      "75%     98370.000000    2022.000000      150.000000  114632.706686   \n",
      "max     99701.000000    2024.000000      337.000000  845000.000000   \n",
      "\n",
      "       Legislative District    Vehicle ID  2020 Census Tract  \n",
      "count         135038.000000  1.350380e+05       1.350380e+05  \n",
      "mean              29.436211  2.063432e+08       5.296919e+10  \n",
      "std               14.834480  8.582417e+07       1.685781e+09  \n",
      "min                0.000000  4.385000e+03       0.000000e+00  \n",
      "25%               18.000000  1.606305e+08       5.303301e+10  \n",
      "50%               33.000000  2.059563e+08       5.303303e+10  \n",
      "75%               43.000000  2.308888e+08       5.305307e+10  \n",
      "max               49.000000  4.792548e+08       5.603300e+10  \n"
     ]
    }
   ],
   "source": [
    "print(data3.describe())"
   ]
  },
  {
   "cell_type": "code",
   "execution_count": 8,
   "id": "a29b28bf-aa80-40c7-84d8-8a4509cce720",
   "metadata": {},
   "outputs": [
    {
     "data": {
      "image/png": "[encoded data removed]",
      "text/plain": [
       "<Figure size 864x432 with 1 Axes>"
      ]
     },
     "metadata": {
      "needs_background": "light"
     },
     "output_type": "display_data"
    }
   ],
   "source": [
    "plt.figure(figsize=(12, 6))\n",
    "sns.histplot(data['Base MSRP'], bins=20, kde=True, color='green')\n",
    "plt.title('Distribution of Base MSRP')\n",
    "plt.xlabel('Frequency')\n",
    "plt.show()"
   ]
  },
  {
   "cell_type": "code",
   "execution_count": 9,
   "id": "3c1268e3-839a-4eab-bc09-f45cdf180af4",
   "metadata": {},
   "outputs": [
    {
     "data": {
      "image/png": "[encoded data removed]",
      "text/plain": [
       "<Figure size 720x576 with 2 Axes>"
      ]
     },
     "metadata": {
      "needs_background": "light"
     },
     "output_type": "display_data"
    }
   ],
   "source": [
    "import seaborn as sns\n",
    "corr= data3.corr()\n",
    "plt.figure(figsize=(10, 8))\n",
    "sns.heatmap( corr, annot=True, cmap='coolwarm', fmt=\".2f\")\n",
    "plt.title('Correlation Heatmap')\n",
    "plt.show()"
   ]
  },
  {
   "cell_type": "code",
   "execution_count": 10,
   "id": "508e7f94-d466-41d5-a3f6-691a17af2744",
   "metadata": {},
   "outputs": [
    {
     "name": "stdout",
     "output_type": "stream",
     "text": [
      "Index(['Identifier', 'City', 'Postal Code', 'Model Year', 'Make', 'Model',\n",
      "       'Electric Vehicle Type',\n",
      "       'Clean Alternative Fuel Vehicle (CAFV) Eligibility', 'Electric Range',\n",
      "       'Base MSRP', 'Legislative District', 'Vehicle ID', 'Vehicle Location',\n",
      "       'Electric Utility', '2020 Census Tract'],\n",
      "      dtype='object')\n"
     ]
    }
   ],
   "source": [
    "print(data3.columns)"
   ]
  },
  {
   "cell_type": "code",
   "execution_count": 11,
   "id": "1a96dd55-8fb5-4896-aedd-2ecc992c1082",
   "metadata": {},
   "outputs": [
    {
     "data": {
      "text/plain": [
       "Identifier                                           0\n",
       "City                                                 0\n",
       "Postal Code                                          0\n",
       "Model Year                                           0\n",
       "Make                                                 0\n",
       "Model                                                0\n",
       "Electric Vehicle Type                                0\n",
       "Clean Alternative Fuel Vehicle (CAFV) Eligibility    0\n",
       "Electric Range                                       0\n",
       "Base MSRP                                            0\n",
       "Legislative District                                 0\n",
       "Vehicle ID                                           0\n",
       "Vehicle Location                                     0\n",
       "Electric Utility                                     0\n",
       "2020 Census Tract                                    0\n",
       "dtype: int64"
      ]
     },
     "execution_count": 11,
     "metadata": {},
     "output_type": "execute_result"
    }
   ],
   "source": [
    "data3.isnull().sum()"
   ]
  },
  {
   "cell_type": "code",
   "execution_count": 12,
   "id": "124cf93b-a8c8-453f-b5f4-ed74819d4c5c",
   "metadata": {},
   "outputs": [
    {
     "data": {
      "text/plain": [
       "(135038, 15)"
      ]
     },
     "execution_count": 12,
     "metadata": {},
     "output_type": "execute_result"
    }
   ],
   "source": [
    "data3.shape"
   ]
  },
  {
   "cell_type": "code",
   "execution_count": 13,
   "id": "442a43d6-c849-4d7e-9edd-3863de852b12",
   "metadata": {},
   "outputs": [
    {
     "name": "stdout",
     "output_type": "stream",
     "text": [
      "        Postal Code  Electric Range     Base MSRP  Legislative District  \\\n",
      "0           98407.0            82.0  65762.426230                  27.0   \n",
      "1           98368.0            25.0  61743.213601                  24.0   \n",
      "2           98070.0            47.0  59748.571844                  34.0   \n",
      "3           98642.0            29.0  63259.981573                  18.0   \n",
      "4           98337.0           151.0  60399.233656                  26.0   \n",
      "...             ...             ...           ...                   ...   \n",
      "135033      98362.0            25.0  61743.213601                  24.0   \n",
      "135034      98134.0           322.0  69275.305655                  11.0   \n",
      "135035      98059.0             0.0  85319.324261                  11.0   \n",
      "135036      98225.0             0.0  85319.324261                  42.0   \n",
      "135037      98126.0            32.0  41028.686576                  34.0   \n",
      "\n",
      "        2020 Census Tract  \n",
      "0            5.305306e+10  \n",
      "1            5.303195e+10  \n",
      "2            5.303303e+10  \n",
      "3            5.301104e+10  \n",
      "4            5.303508e+10  \n",
      "...                   ...  \n",
      "135033       5.300900e+10  \n",
      "135034       5.303301e+10  \n",
      "135035       5.303303e+10  \n",
      "135036       5.307300e+10  \n",
      "135037       5.303301e+10  \n",
      "\n",
      "[135038 rows x 5 columns]\n"
     ]
    }
   ],
   "source": [
    "# Assuming 'data' is your DataFrame containing both float and non-float values\n",
    "float_data = data3.select_dtypes(include=['float'])\n",
    "\n",
    "# Now 'float_data' contains only the columns with float values\n",
    "print(float_data)\n"
   ]
  },
  {
   "cell_type": "code",
   "execution_count": 14,
   "id": "4b6f6caf-7a6f-47af-b409-4fd2ff0686bf",
   "metadata": {},
   "outputs": [
    {
     "name": "stdout",
     "output_type": "stream",
     "text": [
      "Index(['Identifier', 'City', 'Postal Code', 'Model Year', 'Make', 'Model',\n",
      "       'Electric Vehicle Type',\n",
      "       'Clean Alternative Fuel Vehicle (CAFV) Eligibility', 'Electric Range',\n",
      "       'Base MSRP', 'Legislative District', 'Vehicle ID', 'Vehicle Location',\n",
      "       'Electric Utility', '2020 Census Tract'],\n",
      "      dtype='object')\n"
     ]
    }
   ],
   "source": [
    "print(data3.columns)"
   ]
  },
  {
   "cell_type": "code",
   "execution_count": 15,
   "id": "77f5ee78-aab0-4488-bdde-dc5f3ddfb155",
   "metadata": {},
   "outputs": [],
   "source": [
    "from sklearn.tree import DecisionTreeRegressor"
   ]
  },
  {
   "cell_type": "code",
   "execution_count": 16,
   "id": "73fa9583-ac35-449e-a27a-aed88842a5e0",
   "metadata": {},
   "outputs": [],
   "source": [
    "data3 = data3.apply(pd.to_numeric, errors='coerce')\n",
    "X = data3.drop(['Identifier', 'City','Base MSRP','Model Year', 'Make', 'Model','Electric Vehicle Type',\n",
    "       'Clean Alternative Fuel Vehicle (CAFV) Eligibility', 'Vehicle Location', 'Electric Utility'], axis=1)\n",
    "Y = data3['Base MSRP']\n"
   ]
  },
  {
   "cell_type": "code",
   "execution_count": 17,
   "id": "d3330f6b-48ed-4f94-801c-4416a8b5bd6c",
   "metadata": {},
   "outputs": [],
   "source": [
    "X_train, X_test, Y_train, Y_test = train_test_split(X, Y, test_size=0.2, random_state=42)"
   ]
  },
  {
   "cell_type": "code",
   "execution_count": 18,
   "id": "7fa8e813-0c1d-466b-a5d9-e6632e214242",
   "metadata": {},
   "outputs": [],
   "source": [
    "from sklearn.tree import DecisionTreeRegressor\n",
    "from sklearn.compose import ColumnTransformer\n",
    "from sklearn.impute import SimpleImputer\n",
    "from sklearn.impute import SimpleImputer"
   ]
  },
  {
   "cell_type": "code",
   "execution_count": 19,
   "id": "f2ef0897-3dfd-44a0-ab82-e4de49e1f313",
   "metadata": {},
   "outputs": [
    {
     "name": "stdout",
     "output_type": "stream",
     "text": [
      "Linear Regression Score: 0.1631312012786863\n",
      "Random Forest Regression Score: 0.7456238249457814\n",
      "Decision Tree Regression Score: 0.584202939493085\n"
     ]
    }
   ],
   "source": [
    "linear_reg = LinearRegression()\n",
    "random_forest_reg = RandomForestRegressor()\n",
    "decision_tree_reg = DecisionTreeRegressor()\n",
    "\n",
    "# Train the models\n",
    "linear_reg.fit(X_train, Y_train)\n",
    "random_forest_reg.fit(X_train, Y_train)\n",
    "decision_tree_reg.fit(X_train, Y_train)\n",
    "\n",
    "# Evaluate the models\n",
    "linear_reg_score = linear_reg.score(X_test, Y_test)\n",
    "random_forest_reg_score = random_forest_reg.score(X_test, Y_test)\n",
    "decision_tree_reg_score = decision_tree_reg.score(X_test, Y_test)\n",
    "\n",
    "print(\"Linear Regression Score:\", linear_reg_score)\n",
    "print(\"Random Forest Regression Score:\", random_forest_reg_score)\n",
    "print(\"Decision Tree Regression Score:\", decision_tree_reg_score)"
   ]
  },
  {
   "cell_type": "code",
   "execution_count": 20,
   "id": "1d96e770-5593-43bb-93a7-3aac85459e97",
   "metadata": {},
   "outputs": [
    {
     "name": "stdout",
     "output_type": "stream",
     "text": [
      "Training set shape: (108030, 5)\n",
      "Testing set shape: (27008, 5) (27008,)\n"
     ]
    }
   ],
   "source": [
    "print(\"Training set shape:\", X_train.shape)\n",
    "print(\"Testing set shape:\", X_test.shape, Y_test.shape)"
   ]
  },
  {
   "cell_type": "code",
   "execution_count": 21,
   "id": "aa2e2f24-78c1-4708-ad6f-eecaa09e8c8a",
   "metadata": {},
   "outputs": [],
   "source": [
    "lasso_model = Lasso(alpha=0.01)"
   ]
  },
  {
   "cell_type": "code",
   "execution_count": 22,
   "id": "ae51f7c6-8ed7-4ec6-a5c0-78c8967a5cb2",
   "metadata": {},
   "outputs": [],
   "source": [
    "from sklearn.linear_model import Lasso"
   ]
  },
  {
   "cell_type": "code",
   "execution_count": 23,
   "id": "ca37bc5b-dec1-4824-a660-1c0e06b4684a",
   "metadata": {},
   "outputs": [],
   "source": [
    "lasso_model = Lasso()"
   ]
  },
  {
   "cell_type": "code",
   "execution_count": null,
   "id": "784a0f89-1b30-49c7-a080-806e50719a89",
   "metadata": {},
   "outputs": [],
   "source": []
  },
  {
   "cell_type": "code",
   "execution_count": null,
   "id": "c0aabef1-4759-4d0d-9733-b146e808e715",
   "metadata": {},
   "outputs": [],
   "source": []
  }
 ],
 "metadata": {
  "kernelspec": {
   "display_name": "Python 3 [3.10]",
   "language": "python",
   "name": "python3"
  },
  "language_info": {
   "codemirror_mode": {
    "name": "ipython",
    "version": 3
   },
   "file_extension": ".py",
   "mimetype": "text/x-python",
   "name": "python",
   "nbconvert_exporter": "python",
   "pygments_lexer": "ipython3",
   "version": "3.10.2"
  }
 },
 "nbformat": 4,
 "nbformat_minor": 5
}
